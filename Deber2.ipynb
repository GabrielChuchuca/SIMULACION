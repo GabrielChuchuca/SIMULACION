{
  "nbformat": 4,
  "nbformat_minor": 0,
  "metadata": {
    "colab": {
      "name": "Deber2.ipynb",
      "provenance": [],
      "collapsed_sections": [],
      "authorship_tag": "ABX9TyPI1bVK8hby1uLH7eggnsl1",
      "include_colab_link": true
    },
    "kernelspec": {
      "name": "python3",
      "display_name": "Python 3"
    },
    "language_info": {
      "name": "python"
    }
  },
  "cells": [
    {
      "cell_type": "markdown",
      "metadata": {
        "id": "view-in-github",
        "colab_type": "text"
      },
      "source": [
        "<a href=\"https://colab.research.google.com/github/GabrielChuchuca/SIMULACION/blob/main/Deber2.ipynb\" target=\"_parent\"><img src=\"https://colab.research.google.com/assets/colab-badge.svg\" alt=\"Open In Colab\"/></a>"
      ]
    },
    {
      "cell_type": "code",
      "metadata": {
        "colab": {
          "base_uri": "https://localhost:8080/"
        },
        "id": "eAtbNLDv8VG-",
        "outputId": "e1fe0865-d1e7-43e1-a8b4-64d1a0086e90"
      },
      "source": [
        "#pip install simpy"
      ],
      "execution_count": 2,
      "outputs": [
        {
          "output_type": "stream",
          "text": [
            "Collecting simpy\n",
            "  Downloading simpy-4.0.1-py2.py3-none-any.whl (29 kB)\n",
            "Installing collected packages: simpy\n",
            "Successfully installed simpy-4.0.1\n"
          ],
          "name": "stdout"
        }
      ]
    },
    {
      "cell_type": "markdown",
      "metadata": {
        "id": "uOu6kT_F8kGK"
      },
      "source": [
        "![WhatsApp Image 2021-07-30 at 21.41.05 (1).jpeg](data:image/jpeg;base64,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)"
      ]
    },
    {
      "cell_type": "code",
      "metadata": {
        "id": "fr1TgZwz8mQ_"
      },
      "source": [
        "import simpy"
      ],
      "execution_count": 3,
      "outputs": []
    },
    {
      "cell_type": "code",
      "metadata": {
        "id": "6kQdsv848x6P"
      },
      "source": [
        "def llegada(env, bodega):\n",
        "  for i in range(1000):\n",
        "    yield env.timeout(2)\n",
        "    yield bodega.put(f'vacuna{i}')\n",
        "    print(\"Llego la vacuna {} en el tiempo {}\".format(i, env.now))"
      ],
      "execution_count": 4,
      "outputs": []
    },
    {
      "cell_type": "code",
      "metadata": {
        "id": "mQoSVFkp9Dto"
      },
      "source": [
        "def paciente(nombre, env, bodega):\n",
        "  while True:\n",
        "    yield env.timeout(1)\n",
        "    print(\"{} se coloca la vacuna en el tiempo {}\".format(nombre, env.now))"
      ],
      "execution_count": 5,
      "outputs": []
    },
    {
      "cell_type": "code",
      "metadata": {
        "colab": {
          "base_uri": "https://localhost:8080/"
        },
        "id": "8M-wrhZ69TjY",
        "outputId": "326e0027-f3b4-4b84-8036-a8653477a27d"
      },
      "source": [
        "env = simpy.Environment()\n",
        "bodega = simpy.Store(env, capacity=1)\n",
        "llegada = env.process(llegada(env, bodega))\n",
        "paciente = env.process(paciente(\"1\",env, bodega))\n",
        "env.run(until=10)"
      ],
      "execution_count": 7,
      "outputs": [
        {
          "output_type": "stream",
          "text": [
            "1 se coloca la vacuna en el tiempo 1\n",
            "1 se coloca la vacuna en el tiempo 2\n",
            "Llego la vacuna 0 en el tiempo 2\n",
            "1 se coloca la vacuna en el tiempo 3\n",
            "1 se coloca la vacuna en el tiempo 4\n",
            "1 se coloca la vacuna en el tiempo 5\n",
            "1 se coloca la vacuna en el tiempo 6\n",
            "1 se coloca la vacuna en el tiempo 7\n",
            "1 se coloca la vacuna en el tiempo 8\n",
            "1 se coloca la vacuna en el tiempo 9\n"
          ],
          "name": "stdout"
        }
      ]
    },
    {
      "cell_type": "code",
      "metadata": {
        "id": "BzatMPuv9Yn-"
      },
      "source": [
        "def vacuna_insuficiente(env, problemas):\n",
        "  for problema in [simpy.PriorityItem('P2','#0000'),simpy.PriorityItem('P0','#0001'),simpy.PriorityItem('P3','#0002'),simpy.PriorityItem('P1','#0003')]:\n",
        "    yield env.timeout(1)\n",
        "    print(\"En el tiempo {} se termino las dosis disponibles de las vacunas por razon {}\".format(env.now, problema))\n"
      ],
      "execution_count": 8,
      "outputs": []
    },
    {
      "cell_type": "code",
      "metadata": {
        "id": "mvZG4aqB-U_H"
      },
      "source": [
        "def cambio_centro(env,problemas):\n",
        "  while True:\n",
        "    problema = yield problemas.get()\n",
        "    yield env.timeout(3)\n",
        "    print(\"Se ha cambiado al paciente {} en el tiempo {}\".format(problema, env.now))\n",
        "    "
      ],
      "execution_count": 9,
      "outputs": []
    },
    {
      "cell_type": "code",
      "metadata": {
        "colab": {
          "base_uri": "https://localhost:8080/"
        },
        "id": "ZSmG7Lds-kxA",
        "outputId": "e35c6841-de2d-4892-e788-1dee31c59ca5"
      },
      "source": [
        "env = simpy.Environment()\n",
        "problemas = simpy.PriorityStore(env)\n",
        "env.process(vacuna_insuficiente(env,problemas))\n",
        "env.process(cambio_centro(env, problemas))\n",
        "env.run(until=20)"
      ],
      "execution_count": 13,
      "outputs": [
        {
          "output_type": "stream",
          "text": [
            "En el tiempo 1 se termino las dosis disponibles de las vacunas por razon PriorityItem(priority='P2', item='#0000')\n",
            "En el tiempo 2 se termino las dosis disponibles de las vacunas por razon PriorityItem(priority='P0', item='#0001')\n",
            "En el tiempo 3 se termino las dosis disponibles de las vacunas por razon PriorityItem(priority='P3', item='#0002')\n",
            "En el tiempo 4 se termino las dosis disponibles de las vacunas por razon PriorityItem(priority='P1', item='#0003')\n"
          ],
          "name": "stdout"
        }
      ]
    }
  ]
}