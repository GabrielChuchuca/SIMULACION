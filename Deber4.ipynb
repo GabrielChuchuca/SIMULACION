{
  "nbformat": 4,
  "nbformat_minor": 0,
  "metadata": {
    "colab": {
      "name": "Deber4.ipynb",
      "provenance": [],
      "collapsed_sections": [],
      "authorship_tag": "ABX9TyNla8zDbV+B/1EVQgNlTAEd",
      "include_colab_link": true
    },
    "kernelspec": {
      "name": "python3",
      "display_name": "Python 3"
    },
    "language_info": {
      "name": "python"
    }
  },
  "cells": [
    {
      "cell_type": "markdown",
      "metadata": {
        "id": "view-in-github",
        "colab_type": "text"
      },
      "source": [
        "<a href=\"https://colab.research.google.com/github/GabrielChuchuca/SIMULACION/blob/main/Deber4.ipynb\" target=\"_parent\"><img src=\"https://colab.research.google.com/assets/colab-badge.svg\" alt=\"Open In Colab\"/></a>"
      ]
    },
    {
      "cell_type": "code",
      "metadata": {
        "colab": {
          "base_uri": "https://localhost:8080/"
        },
        "id": "sdSxstYzf7Yt",
        "outputId": "ee0cd296-6cab-43f9-f0ae-6fc6d44e742c"
      },
      "source": [
        "pip install simpy"
      ],
      "execution_count": 1,
      "outputs": [
        {
          "output_type": "stream",
          "text": [
            "Collecting simpy\n",
            "  Downloading simpy-4.0.1-py2.py3-none-any.whl (29 kB)\n",
            "Installing collected packages: simpy\n",
            "Successfully installed simpy-4.0.1\n"
          ],
          "name": "stdout"
        }
      ]
    },
    {
      "cell_type": "markdown",
      "metadata": {
        "id": "W4zrsiUCgARS"
      },
      "source": [
        "![image.png](data:image/png;base64,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)"
      ]
    },
    {
      "cell_type": "code",
      "metadata": {
        "id": "pQHBtfqhgBQk"
      },
      "source": [
        "import collections\n",
        "import random\n",
        "import simpy"
      ],
      "execution_count": 2,
      "outputs": []
    },
    {
      "cell_type": "code",
      "metadata": {
        "colab": {
          "base_uri": "https://localhost:8080/"
        },
        "id": "Mfyb6YIigKBM",
        "outputId": "b54b10ea-91d0-44a8-d71a-21e2328ed7bd"
      },
      "source": [
        "NUM_BOLETO = 50\n",
        "TIEMPO_SIMULACION = 120\n",
        "\n",
        "def ventaBoletos(env, num_boletos, pelicula, teatro):\n",
        "  with teatro.contador.request() as turno:\n",
        "    resultado = yield turno | teatro.sold_out[pelicula]\n",
        "    if turno not in resultado:\n",
        "      teatro.num_renegados[pelicula] += 1\n",
        "      return\n",
        "    if teatro.num_boletos[pelicula] < num_boletos:\n",
        "      yield env.timeout(0.5) \n",
        "      return\n",
        "    teatro.num_boletos[pelicula] -= num_boletos\n",
        "    if teatro.num_boletos[pelicula] < 2:\n",
        "      teatro.sold_out[pelicula].succeed()\n",
        "      teatro.tiempo_agotado[pelicula] = env.now\n",
        "      teatro.num_boletos[pelicula] = 0\n",
        "    yield env.timeout(1)\n",
        "\n",
        "\n",
        "def llegadaClientes(env, teatro):\n",
        "  while True:\n",
        "    yield env.timeout(random.expovariate(1/0.5))\n",
        "    pelicula = random.choice(teatro.peliculas)\n",
        "    num_boletos = random.randint(1, 6)\n",
        "    if teatro.num_boletos[pelicula]:\n",
        "      env.process(ventaBoletos(env, num_boletos, pelicula, teatro))\n",
        "\n",
        "\n",
        "Teatro = collections.namedtuple('Teatro', 'contador, peliculas, num_boletos, sold_out, tiempo_agotado, num_renegados')\n",
        "\n",
        "print('Teatro Carlos Crespi - UPS')\n",
        "env = simpy.Environment()\n",
        "\n",
        "contador = simpy.Resource(env,capacity=1)\n",
        "peliculas = ['Conjuro 3', 'Rapidos y Furiosos 10', 'Pulp Fictions']\n",
        "num_boletos = {pelicula: NUM_BOLETO for pelicula in peliculas}\n",
        "sold_out = {pelicula: env.event() for pelicula in peliculas}\n",
        "tiempo_agotado = {pelicula: None for pelicula in peliculas}\n",
        "num_renegados = {pelicula: 0 for pelicula in peliculas}\n",
        "\n",
        "teatro = Teatro(contador, peliculas, num_boletos, sold_out, tiempo_agotado, num_renegados)\n",
        "env.process(llegadaClientes(env, teatro))\n",
        "env.run(until=TIEMPO_SIMULACION)\n",
        "\n",
        "# Analisis y resultados\n",
        "for pelicula in peliculas:\n",
        "  if teatro.sold_out[pelicula]:\n",
        "    print('Pelicula: %s se agoto en el tiempo %.1f despues de salir a la venta' %(pelicula, teatro.tiempo_agotado[pelicula]))\n",
        "    print('Numero de personas que salieron de la fila/renegados %s' %teatro.num_renegados[pelicula])"
      ],
      "execution_count": 3,
      "outputs": [
        {
          "output_type": "stream",
          "text": [
            "Teatro Carlos Crespi - UPS\n",
            "Pelicula: Conjuro 3 se agoto en el tiempo 51.0 despues de salir a la venta\n",
            "Numero de personas que salieron de la fila/renegados 14\n",
            "Pelicula: Rapidos y Furiosos 10 se agoto en el tiempo 54.5 despues de salir a la venta\n",
            "Numero de personas que salieron de la fila/renegados 8\n",
            "Pelicula: Pulp Fictions se agoto en el tiempo 44.0 despues de salir a la venta\n",
            "Numero de personas que salieron de la fila/renegados 10\n"
          ],
          "name": "stdout"
        }
      ]
    },
    {
      "cell_type": "code",
      "metadata": {
        "id": "uBq_qlNugOQN"
      },
      "source": [
        "VELOCIDAD_LLEGADA = 42\n",
        "NUM_BOLETO = 50\n",
        "TIEMPO_SIMULACION = 120"
      ],
      "execution_count": 4,
      "outputs": []
    },
    {
      "cell_type": "code",
      "metadata": {
        "id": "QGcBAjrhgRqL"
      },
      "source": [
        "def ventaBoletos(env, num_boletos, pelicula, teatro):\n",
        "  with teatro.contador.request() as turno:\n",
        "    resultado = yield turno | teatro.sold_out[pelicula]\n",
        "    if turno not in resultado:\n",
        "      teatro.num_renegados[pelicula] += 1\n",
        "      return\n",
        "    if teatro.num_boletos[pelicula] < num_boletos:\n",
        "      yield env.timeout(0.5) \n",
        "      return\n",
        "    teatro.num_boletos[pelicula] -= num_boletos\n",
        "    if teatro.num_boletos[pelicula] < 2:\n",
        "      teatro.sold_out[pelicula].succeed()\n",
        "      teatro.tiempo_agotado[pelicula] = env.now\n",
        "      teatro.num_boletos[pelicula] = 0\n",
        "    yield env.timeout(1)\n",
        "\n",
        "\n",
        "def llegadaClientes(env, teatro):\n",
        "  while True:\n",
        "    yield env.timeout(random.expovariate(1/0.5))\n",
        "    pelicula = random.choices(teatro.peliculas, teatro.probabilidad, k=1)\n",
        "    num_boletos = random.randint(1, 6)\n",
        "    if teatro.num_boletos[pelicula[0]]:\n",
        "      env.process(ventaBoletos(env, num_boletos, pelicula[0], teatro))\n",
        "\n",
        "def process_run(vel,nboleto,tsimulacion):   \n",
        "    \n",
        "    VELOCIDAD_LLEGADA = vel\n",
        "    NUM_BOLETO = nboleto\n",
        "    TIEMPO_SIMULACION = tsimulacion\n",
        "    \n",
        "    resultado = \"\"\n",
        "    \n",
        "    Teatro = collections.namedtuple('Teatro', 'contador, peliculas, probabilidad, num_boletos, sold_out, tiempo_agotado, num_renegados')\n",
        "\n",
        "    print('Teatro Carlos Crespi - UPS')\n",
        "    env = simpy.Environment()\n",
        "\n",
        "    contador = simpy.Resource(env,capacity=1)\n",
        "    peliculas = ['Conjuro 3', 'Rapidos y Furiosos 10', 'Pulp Fictions']\n",
        "    probabilidad=[0.1, 0.3, 0.6]\n",
        "    num_boletos = {pelicula: NUM_BOLETO for pelicula in peliculas}\n",
        "    sold_out = {pelicula: env.event() for pelicula in peliculas}\n",
        "    tiempo_agotado = {pelicula: None for pelicula in peliculas}\n",
        "    num_renegados = {pelicula: 0 for pelicula in peliculas}\n",
        "\n",
        "    teatro = Teatro(contador, peliculas, probabilidad, num_boletos, sold_out, tiempo_agotado, num_renegados)\n",
        "    env.process(llegadaClientes(env, teatro))\n",
        "    env.run(until=TIEMPO_SIMULACION)\n",
        "\n",
        "    # Analisis y resultados\n",
        "    for pelicula in peliculas:\n",
        "      if teatro.sold_out[pelicula]:\n",
        "        \n",
        "        print('Pelicula: %s se agoto en el tiempo %.1f despues de salir a la venta' %(pelicula, teatro.tiempo_agotado[pelicula]))\n",
        "        sms1 = 'Pelicula: %s se agoto en el tiempo %.1f despues de salir a la venta' %(pelicula, teatro.tiempo_agotado[pelicula])\n",
        "        print('Numero de personas que salieron de la fila/renegados %s' %teatro.num_renegados[pelicula])\n",
        "        sms2 = 'Numero de personas que salieron de la fila/renegados %s' %teatro.num_renegados[pelicula]\n",
        "        resultado = resultado + \"\\n\" + sms1 +\"\\n\"+ sms2\n",
        "    return resultado"
      ],
      "execution_count": 5,
      "outputs": []
    },
    {
      "cell_type": "code",
      "metadata": {
        "id": "qhC8UmUYgUAc"
      },
      "source": [
        "from tkinter import *\n",
        "from tkinter import ttk\n",
        "from tkinter import messagebox"
      ],
      "execution_count": 6,
      "outputs": []
    },
    {
      "cell_type": "code",
      "metadata": {
        "colab": {
          "base_uri": "https://localhost:8080/",
          "height": 350
        },
        "id": "LbAzDDnrgXWj",
        "outputId": "b72b00c1-b036-4b8c-ef0d-679f864dc53b"
      },
      "source": [
        "ventana = Tk()\n",
        "ventana.geometry(\"500x500\")\n",
        "ventana.title(\"Simulación de boleteria peliculas\")\n",
        "ventana.resizable(0,0)\n",
        "\n",
        "txvelocidad=StringVar()\n",
        "velocidad = Label(ventana,text=\"Velocidad\", width=10).place(x=15, y=10)\n",
        "txtvelocidad = ttk.Entry(ventana, textvariable=txvelocidad).place(x=150,y=10)\n",
        "\n",
        "txnboleto=StringVar()\n",
        "nboleto = Label(ventana,text=\"Numero de boletos\", width=20).place(x=5, y=40)\n",
        "txtnboleto = ttk.Entry(ventana, textvariable=txnboleto).place(x=150,y=40)\n",
        "\n",
        "txsimulacion=StringVar()\n",
        "simulacion = Label(ventana,text=\"Tiempo de simulacion\", width=20).place(x=10, y=70)\n",
        "txtsimulacion = ttk.Entry(ventana,textvariable=txsimulacion).place(x=150,y=70)\n",
        "\n",
        "\n",
        "def guardar():\n",
        "    vel = txvelocidad.get()\n",
        "    nbol=txnboleto.get()\n",
        "    sim=txsimulacion.get()\n",
        "    \n",
        "    res = process_run(vel=int(vel),nboleto=int(nbol),tsimulacion=int(sim))\n",
        "    print(\"resp \",res)\n",
        "    #tk.messagebox.showinfo(title=\"Resultado de simulacion\", message=res, **options)\n",
        "    messagebox.showinfo(message=res,title=\"Resultado de simulación\")\n",
        "    \n",
        "\n",
        "Button(ventana, text=\"Correr\", command=guardar).place(x=100, y=150)\n",
        "\n",
        "ventana.mainloop()"
      ],
      "execution_count": 7,
      "outputs": [
        {
          "output_type": "error",
          "ename": "TclError",
          "evalue": "ignored",
          "traceback": [
            "\u001b[0;31m---------------------------------------------------------------------------\u001b[0m",
            "\u001b[0;31mTclError\u001b[0m                                  Traceback (most recent call last)",
            "\u001b[0;32m<ipython-input-7-f63cf785889d>\u001b[0m in \u001b[0;36m<module>\u001b[0;34m()\u001b[0m\n\u001b[0;32m----> 1\u001b[0;31m \u001b[0mventana\u001b[0m \u001b[0;34m=\u001b[0m \u001b[0mTk\u001b[0m\u001b[0;34m(\u001b[0m\u001b[0;34m)\u001b[0m\u001b[0;34m\u001b[0m\u001b[0;34m\u001b[0m\u001b[0m\n\u001b[0m\u001b[1;32m      2\u001b[0m \u001b[0mventana\u001b[0m\u001b[0;34m.\u001b[0m\u001b[0mgeometry\u001b[0m\u001b[0;34m(\u001b[0m\u001b[0;34m\"500x500\"\u001b[0m\u001b[0;34m)\u001b[0m\u001b[0;34m\u001b[0m\u001b[0;34m\u001b[0m\u001b[0m\n\u001b[1;32m      3\u001b[0m \u001b[0mventana\u001b[0m\u001b[0;34m.\u001b[0m\u001b[0mtitle\u001b[0m\u001b[0;34m(\u001b[0m\u001b[0;34m\"Simulación de boleteria peliculas\"\u001b[0m\u001b[0;34m)\u001b[0m\u001b[0;34m\u001b[0m\u001b[0;34m\u001b[0m\u001b[0m\n\u001b[1;32m      4\u001b[0m \u001b[0mventana\u001b[0m\u001b[0;34m.\u001b[0m\u001b[0mresizable\u001b[0m\u001b[0;34m(\u001b[0m\u001b[0;36m0\u001b[0m\u001b[0;34m,\u001b[0m\u001b[0;36m0\u001b[0m\u001b[0;34m)\u001b[0m\u001b[0;34m\u001b[0m\u001b[0;34m\u001b[0m\u001b[0m\n\u001b[1;32m      5\u001b[0m \u001b[0;34m\u001b[0m\u001b[0m\n",
            "\u001b[0;32m/usr/lib/python3.7/tkinter/__init__.py\u001b[0m in \u001b[0;36m__init__\u001b[0;34m(self, screenName, baseName, className, useTk, sync, use)\u001b[0m\n\u001b[1;32m   2021\u001b[0m                 \u001b[0mbaseName\u001b[0m \u001b[0;34m=\u001b[0m \u001b[0mbaseName\u001b[0m \u001b[0;34m+\u001b[0m \u001b[0mext\u001b[0m\u001b[0;34m\u001b[0m\u001b[0;34m\u001b[0m\u001b[0m\n\u001b[1;32m   2022\u001b[0m         \u001b[0minteractive\u001b[0m \u001b[0;34m=\u001b[0m \u001b[0;36m0\u001b[0m\u001b[0;34m\u001b[0m\u001b[0;34m\u001b[0m\u001b[0m\n\u001b[0;32m-> 2023\u001b[0;31m         \u001b[0mself\u001b[0m\u001b[0;34m.\u001b[0m\u001b[0mtk\u001b[0m \u001b[0;34m=\u001b[0m \u001b[0m_tkinter\u001b[0m\u001b[0;34m.\u001b[0m\u001b[0mcreate\u001b[0m\u001b[0;34m(\u001b[0m\u001b[0mscreenName\u001b[0m\u001b[0;34m,\u001b[0m \u001b[0mbaseName\u001b[0m\u001b[0;34m,\u001b[0m \u001b[0mclassName\u001b[0m\u001b[0;34m,\u001b[0m \u001b[0minteractive\u001b[0m\u001b[0;34m,\u001b[0m \u001b[0mwantobjects\u001b[0m\u001b[0;34m,\u001b[0m \u001b[0museTk\u001b[0m\u001b[0;34m,\u001b[0m \u001b[0msync\u001b[0m\u001b[0;34m,\u001b[0m \u001b[0muse\u001b[0m\u001b[0;34m)\u001b[0m\u001b[0;34m\u001b[0m\u001b[0;34m\u001b[0m\u001b[0m\n\u001b[0m\u001b[1;32m   2024\u001b[0m         \u001b[0;32mif\u001b[0m \u001b[0museTk\u001b[0m\u001b[0;34m:\u001b[0m\u001b[0;34m\u001b[0m\u001b[0;34m\u001b[0m\u001b[0m\n\u001b[1;32m   2025\u001b[0m             \u001b[0mself\u001b[0m\u001b[0;34m.\u001b[0m\u001b[0m_loadtk\u001b[0m\u001b[0;34m(\u001b[0m\u001b[0;34m)\u001b[0m\u001b[0;34m\u001b[0m\u001b[0;34m\u001b[0m\u001b[0m\n",
            "\u001b[0;31mTclError\u001b[0m: no display name and no $DISPLAY environment variable"
          ]
        }
      ]
    }
  ]
}