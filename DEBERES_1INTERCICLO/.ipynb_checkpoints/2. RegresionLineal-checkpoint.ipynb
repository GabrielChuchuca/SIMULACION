{
 "cells": [
  {
   "cell_type": "code",
   "execution_count": 31,
   "metadata": {},
   "outputs": [],
   "source": [
    "import matplotlib.pyplot as plt\n",
    "import numpy as np\n",
    "import math as mt\n",
    "import numpy as np"
   ]
  },
  {
   "cell_type": "code",
   "execution_count": 39,
   "metadata": {},
   "outputs": [],
   "source": [
    "def ecuacion_recta(): \n",
    "    x = np.random.random(20)*10 \n",
    "    #print(x)\n",
    "    y = np.random.random(20)*10 \n",
    "    #print(y)\n",
    "    #return x,y\n",
    "    X = np.array(x.reshape((20,1)))\n",
    "    Y = np.array(y.reshape((20,1)))\n",
    "    print(X)\n",
    "    print(Y)\n",
    "    \"\"\"plt.plot(X, Y, 'o')\n",
    "    plt.axhline(y = 0, color = \"blue\")\n",
    "    plt.axvline(x = 0, color = \"blue\")\n",
    "    plt.grid()\n",
    "    plt.show()\"\"\"\n",
    "    \n",
    "    ex=sum(X)\n",
    "    ey=sum(Y)\n",
    "    exy=sum(X*Y)\n",
    "    exx=sum(X*X)\n",
    "    lon=len(X)\n",
    "    m=(lon*exy-ex*ey)/(lon*exx-mt.pow(abs(ex),2))\n",
    "    b=(ey*exx-ex*exy)/(lon*exx-mt.pow(abs(ex),2))\n",
    "    ecua=\"\"\n",
    "    m=round(m[0],4)\n",
    "    b=round(b[0],4)\n",
    "    if (b < 0):\n",
    "        ecua='y = {}x {}'\n",
    "    else:\n",
    "        ecua='y = {}x + {}'\n",
    "    print(ecua.format(m,b))\n",
    "    fu=lambda x: m*x+b\n",
    "    li=np.arange(min(X)-5.0,max(X)+5.0,0.5)\n",
    "    plt.plot(X,Y,'o')\n",
    "    plt.axhline(y=0,color=\"red\")\n",
    "    plt.axvline(x=0,color=\"red\")\n",
    "    plt.plot(li,fu(li))\n",
    "    plt.grid(True)\n",
    "    plt.show()"
   ]
  },
  {
   "cell_type": "code",
   "execution_count": 42,
   "metadata": {},
   "outputs": [
    {
     "name": "stdout",
     "output_type": "stream",
     "text": [
      "[[2.89441583]\n",
      " [1.26077928]\n",
      " [5.84574101]\n",
      " [9.26323066]\n",
      " [5.92899844]\n",
      " [9.01694208]\n",
      " [7.24827687]\n",
      " [0.20745964]\n",
      " [2.25524934]\n",
      " [1.13663916]\n",
      " [3.99301907]\n",
      " [8.43914966]\n",
      " [9.97467307]\n",
      " [4.00753514]\n",
      " [7.03735413]\n",
      " [1.51869677]\n",
      " [5.50025228]\n",
      " [2.90222003]\n",
      " [4.56055779]\n",
      " [1.96985001]]\n",
      "[[1.96147258]\n",
      " [9.7792522 ]\n",
      " [1.20347232]\n",
      " [0.64504582]\n",
      " [5.82007825]\n",
      " [4.12499136]\n",
      " [2.93139417]\n",
      " [5.99849145]\n",
      " [2.98687993]\n",
      " [4.10404101]\n",
      " [3.74735538]\n",
      " [7.07412483]\n",
      " [7.00530394]\n",
      " [3.75226937]\n",
      " [5.3337578 ]\n",
      " [2.36377155]\n",
      " [8.43201611]\n",
      " [0.69334924]\n",
      " [3.48664117]\n",
      " [0.81835525]]\n",
      "y = 0.0733x + 3.7652\n"
     ]
    },
    {
     "data": {
      "image/png": "[encoded data removed]",
      "text/plain": [
       "<Figure size 432x288 with 1 Axes>"
      ]
     },
     "metadata": {
      "needs_background": "light"
     },
     "output_type": "display_data"
    }
   ],
   "source": [
    "ecuacion_recta()"
   ]
  }
 ],
 "metadata": {
  "kernelspec": {
   "display_name": "Python 3",
   "language": "python",
   "name": "python3"
  },
  "language_info": {
   "codemirror_mode": {
    "name": "ipython",
    "version": 3
   },
   "file_extension": ".py",
   "mimetype": "text/x-python",
   "name": "python",
   "nbconvert_exporter": "python",
   "pygments_lexer": "ipython3",
   "version": "3.8.3"
  }
 },
 "nbformat": 4,
 "nbformat_minor": 4
}
