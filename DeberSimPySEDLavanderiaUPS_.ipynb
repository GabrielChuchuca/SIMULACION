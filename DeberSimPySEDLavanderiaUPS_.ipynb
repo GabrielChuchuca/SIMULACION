{
  "nbformat": 4,
  "nbformat_minor": 0,
  "metadata": {
    "colab": {
      "name": "DeberSimPySEDLavanderiaUPS .ipynb",
      "provenance": [],
      "collapsed_sections": [],
      "authorship_tag": "ABX9TyOoFVNBKeOvaLgSR83ejH2O",
      "include_colab_link": true
    },
    "kernelspec": {
      "name": "python3",
      "display_name": "Python 3"
    },
    "language_info": {
      "name": "python"
    }
  },
  "cells": [
    {
      "cell_type": "markdown",
      "metadata": {
        "id": "view-in-github",
        "colab_type": "text"
      },
      "source": [
        "<a href=\"https://colab.research.google.com/github/GabrielChuchuca/SIMULACION/blob/main/DeberSimPySEDLavanderiaUPS_.ipynb\" target=\"_parent\"><img src=\"https://colab.research.google.com/assets/colab-badge.svg\" alt=\"Open In Colab\"/></a>"
      ]
    },
    {
      "cell_type": "markdown",
      "metadata": {
        "id": "0gCJ7ga0lOGx"
      },
      "source": [
        "## Practica 2 - SimPy SED ##\n",
        "Modifique el código anterior a fin de incorporar los siguientes cambios:\n",
        "\n",
        "- Considerar 3 tipos de vehículos con 3 diferentes tiempos de lavado:\n",
        "    - Bus: 20 minutos\n",
        "    - Automóvil: 7 minutos\n",
        "    - Furgoneta: 12 minutos\n",
        "- Considere que a partir de la entrada del vehículo para ser lavado, deberán tomarse en cuenta los siguientes tiempos correspondientes al proceso de traslado desde la recepción a la máquina de lavado:\n",
        "    - Bus: 4 minutos\n",
        "    - Automóvil: 1 minuto\n",
        "    - Furgoneta: 2 minutos\n",
        "- Realice una gráfica comparativa de la simulación con 3 y con 4 máquinas de lavado"
      ]
    },
    {
      "cell_type": "code",
      "metadata": {
        "colab": {
          "base_uri": "https://localhost:8080/"
        },
        "id": "8pRt-53xl11K",
        "outputId": "336a08a2-0fe2-423a-ab57-a86c898d524f"
      },
      "source": [
        "#pip install simpy"
      ],
      "execution_count": 2,
      "outputs": [
        {
          "output_type": "stream",
          "text": [
            "Collecting simpy\n",
            "  Downloading https://files.pythonhosted.org/packages/20/f9/874b0bab83406827db93292a5bbe5acb5c18e3cea665b2f6e053292cb687/simpy-4.0.1-py2.py3-none-any.whl\n",
            "Installing collected packages: simpy\n",
            "Successfully installed simpy-4.0.1\n"
          ],
          "name": "stdout"
        }
      ]
    },
    {
      "cell_type": "markdown",
      "metadata": {
        "id": "WFPOa_3QotyE"
      },
      "source": [
        "# 3 MAQUINAS #"
      ]
    },
    {
      "cell_type": "code",
      "metadata": {
        "id": "OKDY7EHNlUGQ"
      },
      "source": [
        "import simpy\n",
        "import random\n",
        "import matplotlib.pyplot as plt"
      ],
      "execution_count": 3,
      "outputs": []
    },
    {
      "cell_type": "code",
      "metadata": {
        "id": "pUemPKfgl6lo"
      },
      "source": [
        "# Maximo de vehiculos que puede recibir el negocio\n",
        "MAX_VEHICULOS = 57 \n",
        "# Total de maquinas de lavado con que cuenta el negocio\n",
        "NUM_MAQUINAS = 3\n",
        "#Tiempo de traslado de vehiculos\n",
        "TRASLADO= [4,1,2]\n",
        "# Tiempo que tarda en lavarse un vehiculo (minutos)\n",
        "#Bus: 20min, Automóvil: 7min, Furgoneta: 12min\n",
        "TIEMPO_LAVADO =[20,7,12] #7 \n",
        "# Intervalo de tiempo en que llegan vehiculos (minutos)\n",
        "# Bus: 4min, Automóvil: 1 min, Furgoneta: 2 min.\n",
        "INTERVALO_LLEGADA = 10\n",
        "# Tiempo de simulación\n",
        "TIEMPO_SIMULACION = 100\n",
        "\n",
        "tiempo= {}"
      ],
      "execution_count": 4,
      "outputs": []
    },
    {
      "cell_type": "code",
      "metadata": {
        "id": "GGeQDJb5l9sw"
      },
      "source": [
        "class LavanderiaUPS(object):\n",
        "    def __init__(self, environment, num_maquinas,tiempo_bus,tiempo_automovil,\n",
        "                 tiempo_furgoneta,traslado_bus,traslado_automovil,traslado_furgoneta):\n",
        "        # Guardamos como variable el entorno de ejecucion\n",
        "        self.env=environment\n",
        "        # Creamos el recurso que representa las maquinas\n",
        "        self.maquinas = simpy.Resource(environment, num_maquinas)\n",
        "        # Variable para el tiempo de lavado\n",
        "        self.tiempo_bus = tiempo_bus\n",
        "        self.tiempo_automovil = tiempo_automovil\n",
        "        self.tiempo_furgoneta = tiempo_furgoneta\n",
        "        self.traslado_bus = traslado_bus\n",
        "        self.traslado_automovil = traslado_automovil\n",
        "        self.traslado_furgoneta = traslado_furgoneta\n",
        "        \n",
        "    def lavado(self, vehiculo):\n",
        "        automotor=vehiculo.split('-')\n",
        "        if(automotor[0] == 'Bus'):\n",
        "            yield self.env.timeout(TRASLADO[0])\n",
        "        if(automotor[0] == 'Automovil'):\n",
        "            yield self.env.timeout(TRASLADO[1])\n",
        "        if(automotor[0] == 'Furgoneta'):\n",
        "            yield self.env.timeout(TRASLADO[2])\n",
        "        #Solo agregamos al diccionario al momento que termina de lavar el vehiculo.\n",
        "        k=automotor[0]\n",
        "        if k in tiempo:\n",
        "            tiempo[k]=tiempo[k]+1\n",
        "        else:\n",
        "            tiempo[k]=1\n",
        "            \n",
        "        # Simulamos que se ha limpiado parte (%) de la suciedad del vehiculo\n",
        "        # Para el % generamos un entero entre 30 y 90\n",
        "        print('Removido  {%d%%} suciedad vehiculo => %s ' %(random.randint(30,90), vehiculo))\n",
        "        \n",
        "    def traslado(self, vehiculo):\n",
        "        automotor=vehiculo.split('-')\n",
        "        if(automotor[0] == 'Bus'):\n",
        "            yield self.env.timeout(TRASLADO[0])\n",
        "        if(automotor[0] == 'Automovil'):\n",
        "            yield self.env.timeout(TRASLADO[1])\n",
        "        if(automotor[0] == 'Furgoneta'):\n",
        "            yield self.env.timeout(TRASLADO[2])"
      ],
      "execution_count": 5,
      "outputs": []
    },
    {
      "cell_type": "code",
      "metadata": {
        "id": "F58brwz4mIB_"
      },
      "source": [
        "def llegada(env, nombre, lavanderiaups):\n",
        "    # Usamos el reloj de la simulacion (env.now()) para indicar a la\n",
        "    # hora que llega el vehiculo con el nombre pasado como parametro\n",
        "    print('Llega vehiculo: %s a la hora %.2f.' % (nombre, env.now))\n",
        "    \n",
        "    # Especificamos que vamos a usar un recurso (Resource) que representa\n",
        "    # la maquina de lavado\n",
        "    with lavanderiaups.maquinas.request() as maquina:\n",
        "        # Ocupamos la maquina de lavado\n",
        "        yield maquina\n",
        "        #Indicamos que el vehiculo se esta trasladando para ser lavado\n",
        "        print('Se traslada vehiculo: %s a la hora %.2f.' % (nombre,env.now))\n",
        "        #Procesamos el traslado del vehiculo\n",
        "        yield env.process(lavanderiaups.traslado(nombre))\n",
        "        # Indicamos que vehiculo entra a la lavanderia\n",
        "        print('Entra vehiculo a lavarse: %s a la hora %.2f.' % (nombre, env.now))\n",
        "        # Procesamos la operacion de lavado\n",
        "        yield env.process(lavanderiaups.lavado(nombre))\n",
        "        # Una vez que termina la llamada con 'yield', se indica que se ha lavado el vehiculo\n",
        "        print('Vehiculo [%s] lavado a las %.2f.' % (nombre, env.now))  "
      ],
      "execution_count": 10,
      "outputs": []
    },
    {
      "cell_type": "code",
      "metadata": {
        "id": "L0GwBXkVmdOn"
      },
      "source": [
        "def ejecucion(env, num_maquinas, tiempo_bus, tiempo_automovil, tiempo_furgoneta, traslado_bus, traslado_automovil, traslado_furgoneta, intervalo):\n",
        "    lavanderiaups=LavanderiaUPS(env, num_maquinas, tiempo_bus, tiempo_automovil, tiempo_furgoneta, traslado_bus, traslado_automovil, traslado_furgoneta)\n",
        "    # Creamos 5 llegadas de vehiculos iniciales\n",
        "    for i in range(2):\n",
        "        env.process(llegada(env, 'Bus-%d'%(i+1),lavanderiaups))\n",
        "        env.process(llegada(env, 'Automovil-%d'%(i+1),lavanderiaups))\n",
        "        env.process(llegada(env, 'Furgoneta-%d'%(i+1),lavanderiaups))\n",
        "        \n",
        "    # Ejecutamos la simulacion\n",
        "    while True:\n",
        "        yield env.timeout(random.randint(intervalo-3, intervalo+3))\n",
        "        i+=1\n",
        "        # Mientras se lavan los vehiculos generamos mas vehiculos\n",
        "        rnd = random.randint(1,100)\n",
        "        if rnd <= 20: # Bus 20%, Furgoneta 30% y Automovil 50%\n",
        "            env.process(llegada(env,'Bus-%d'%(i+1),lavanderiaups))\n",
        "        elif rnd <= 50:\n",
        "            env.process(llegada(env,'Furgoneta-%d'%(i+1),lavanderiaups))\n",
        "        else:\n",
        "            env.process(llegada(env,'Automovil-%d'%(i+1),lavanderiaups))"
      ],
      "execution_count": 11,
      "outputs": []
    },
    {
      "cell_type": "code",
      "metadata": {
        "colab": {
          "base_uri": "https://localhost:8080/"
        },
        "id": "Z46qbOYEm7tL",
        "outputId": "49440352-2497-45eb-facb-c8d928ece004"
      },
      "source": [
        "print('Lavanderia UPS')\n",
        "# Inicializamos la semilla aleatoria\n",
        "random.seed(77)\n",
        "\n",
        "# Creamos el entorno de simulacion\n",
        "env=simpy.Environment()\n",
        "env.process(ejecutar_simulacion(env, NUM_MAQUINAS, TIEMPO_LAVADO[0], TIEMPO_LAVADO[1], TIEMPO_LAVADO[2], TRASLADO[0], TRASLADO[1], TRASLADO[2], INTERVALO_LLEGADA))\n",
        "\n",
        "# Ejecutamos el proceso durante el tiempo de simulacion\n",
        "env.run(until = TIEMPO_SIMULACION)"
      ],
      "execution_count": 12,
      "outputs": [
        {
          "output_type": "stream",
          "text": [
            "Lavanderia UPS\n",
            "Llega vehiculo: Bus-1 a la hora 0.00.\n",
            "Llega vehiculo: Automovil-1 a la hora 0.00.\n",
            "Llega vehiculo: Furgoneta-1 a la hora 0.00.\n",
            "Llega vehiculo: Bus-2 a la hora 0.00.\n",
            "Llega vehiculo: Automovil-2 a la hora 0.00.\n",
            "Llega vehiculo: Furgoneta-2 a la hora 0.00.\n",
            "Se traslada vehiculo: Bus-1 a la hora 0.00.\n",
            "Se traslada vehiculo: Automovil-1 a la hora 0.00.\n",
            "Se traslada vehiculo: Furgoneta-1 a la hora 0.00.\n",
            "Entra vehiculo a lavarse: Automovil-1 a la hora 1.00.\n",
            "Removido  {46%} suciedad vehiculo => Automovil-1 \n",
            "Entra vehiculo a lavarse: Furgoneta-1 a la hora 2.00.\n",
            "Vehiculo [Automovil-1] lavado a las 2.00.\n",
            "Se traslada vehiculo: Bus-2 a la hora 2.00.\n",
            "Removido  {50%} suciedad vehiculo => Furgoneta-1 \n",
            "Entra vehiculo a lavarse: Bus-1 a la hora 4.00.\n",
            "Vehiculo [Furgoneta-1] lavado a las 4.00.\n",
            "Se traslada vehiculo: Automovil-2 a la hora 4.00.\n",
            "Entra vehiculo a lavarse: Automovil-2 a la hora 5.00.\n",
            "Removido  {42%} suciedad vehiculo => Automovil-2 \n",
            "Entra vehiculo a lavarse: Bus-2 a la hora 6.00.\n",
            "Vehiculo [Automovil-2] lavado a las 6.00.\n",
            "Se traslada vehiculo: Furgoneta-2 a la hora 6.00.\n",
            "Removido  {45%} suciedad vehiculo => Bus-1 \n",
            "Vehiculo [Bus-1] lavado a las 8.00.\n",
            "Entra vehiculo a lavarse: Furgoneta-2 a la hora 8.00.\n",
            "Removido  {42%} suciedad vehiculo => Bus-2 \n",
            "Removido  {82%} suciedad vehiculo => Furgoneta-2 \n",
            "Vehiculo [Bus-2] lavado a las 10.00.\n",
            "Vehiculo [Furgoneta-2] lavado a las 10.00.\n",
            "Llega vehiculo: Bus-3 a la hora 13.00.\n",
            "Se traslada vehiculo: Bus-3 a la hora 13.00.\n",
            "Entra vehiculo a lavarse: Bus-3 a la hora 17.00.\n",
            "Removido  {60%} suciedad vehiculo => Bus-3 \n",
            "Vehiculo [Bus-3] lavado a las 21.00.\n",
            "Llega vehiculo: Automovil-4 a la hora 22.00.\n",
            "Se traslada vehiculo: Automovil-4 a la hora 22.00.\n",
            "Entra vehiculo a lavarse: Automovil-4 a la hora 23.00.\n",
            "Removido  {45%} suciedad vehiculo => Automovil-4 \n",
            "Vehiculo [Automovil-4] lavado a las 24.00.\n",
            "Llega vehiculo: Bus-5 a la hora 33.00.\n",
            "Se traslada vehiculo: Bus-5 a la hora 33.00.\n",
            "Entra vehiculo a lavarse: Bus-5 a la hora 37.00.\n",
            "Removido  {70%} suciedad vehiculo => Bus-5 \n",
            "Vehiculo [Bus-5] lavado a las 41.00.\n",
            "Llega vehiculo: Automovil-6 a la hora 44.00.\n",
            "Se traslada vehiculo: Automovil-6 a la hora 44.00.\n",
            "Entra vehiculo a lavarse: Automovil-6 a la hora 45.00.\n",
            "Removido  {30%} suciedad vehiculo => Automovil-6 \n",
            "Vehiculo [Automovil-6] lavado a las 46.00.\n",
            "Llega vehiculo: Furgoneta-7 a la hora 55.00.\n",
            "Se traslada vehiculo: Furgoneta-7 a la hora 55.00.\n",
            "Entra vehiculo a lavarse: Furgoneta-7 a la hora 57.00.\n",
            "Removido  {83%} suciedad vehiculo => Furgoneta-7 \n",
            "Vehiculo [Furgoneta-7] lavado a las 59.00.\n",
            "Llega vehiculo: Automovil-8 a la hora 62.00.\n",
            "Se traslada vehiculo: Automovil-8 a la hora 62.00.\n",
            "Entra vehiculo a lavarse: Automovil-8 a la hora 63.00.\n",
            "Removido  {80%} suciedad vehiculo => Automovil-8 \n",
            "Vehiculo [Automovil-8] lavado a las 64.00.\n",
            "Llega vehiculo: Furgoneta-9 a la hora 70.00.\n",
            "Se traslada vehiculo: Furgoneta-9 a la hora 70.00.\n",
            "Entra vehiculo a lavarse: Furgoneta-9 a la hora 72.00.\n",
            "Removido  {83%} suciedad vehiculo => Furgoneta-9 \n",
            "Vehiculo [Furgoneta-9] lavado a las 74.00.\n",
            "Llega vehiculo: Furgoneta-10 a la hora 81.00.\n",
            "Se traslada vehiculo: Furgoneta-10 a la hora 81.00.\n",
            "Entra vehiculo a lavarse: Furgoneta-10 a la hora 83.00.\n",
            "Removido  {51%} suciedad vehiculo => Furgoneta-10 \n",
            "Vehiculo [Furgoneta-10] lavado a las 85.00.\n",
            "Llega vehiculo: Furgoneta-11 a la hora 89.00.\n",
            "Se traslada vehiculo: Furgoneta-11 a la hora 89.00.\n",
            "Entra vehiculo a lavarse: Furgoneta-11 a la hora 91.00.\n",
            "Removido  {35%} suciedad vehiculo => Furgoneta-11 \n",
            "Vehiculo [Furgoneta-11] lavado a las 93.00.\n",
            "Llega vehiculo: Automovil-12 a la hora 96.00.\n",
            "Se traslada vehiculo: Automovil-12 a la hora 96.00.\n",
            "Entra vehiculo a lavarse: Automovil-12 a la hora 97.00.\n",
            "Removido  {46%} suciedad vehiculo => Automovil-12 \n",
            "Vehiculo [Automovil-12] lavado a las 98.00.\n"
          ],
          "name": "stdout"
        }
      ]
    },
    {
      "cell_type": "code",
      "metadata": {
        "colab": {
          "base_uri": "https://localhost:8080/",
          "height": 1000
        },
        "id": "TEccklpInY1Y",
        "outputId": "792aa32a-8a24-4553-f969-dc5499ddbe67"
      },
      "source": [
        "datos = sorted(tiempo.items())\n",
        "x, y = zip(*datos)\n",
        "plt.plot(x,y,linewidth=3, color=\"yellow\")\n",
        "plt.gcf().set_size_inches(15, 15)\n",
        "plt.scatter(x,y,color='red')\n",
        "plt.grid(True)\n",
        "plt.show()"
      ],
      "execution_count": 24,
      "outputs": [
        {
          "output_type": "display_data",
          "data": {
            "image/png": "[encoded data removed]",
            "text/plain": [
              "<Figure size 1440x1440 with 1 Axes>"
            ]
          },
          "metadata": {
            "tags": [],
            "needs_background": "light"
          }
        }
      ]
    },
    {
      "cell_type": "markdown",
      "metadata": {
        "id": "CnpnT7hdnq7w"
      },
      "source": [
        "# 4 MAQUINAS #"
      ]
    },
    {
      "cell_type": "code",
      "metadata": {
        "id": "My2C2vbNnvrR"
      },
      "source": [
        "# Maximo de vehiculos que puede recibir el negocio\n",
        "MAX_VEHICULOS = 57 \n",
        "# Total de maquinas de lavado con que cuenta el negocio\n",
        "NUM_MAQUINAS = 4\n",
        "#Tiempo de traslado de vehiculos\n",
        "TRASLADO= [4,1,2]\n",
        "# Tiempo que tarda en lavarse un vehiculo (minutos)\n",
        "#Bus: 20min, Automóvil: 7min, Furgoneta: 12min\n",
        "TIEMPO_LAVADO =[20,7,12] #7 \n",
        "# Intervalo de tiempo en que llegan vehiculos (minutos)\n",
        "# Bus: 4min, Automóvil: 1 min, Furgoneta: 2 min.\n",
        "INTERVALO_LLEGADA = 10\n",
        "# Tiempo de simulación\n",
        "TIEMPO_SIMULACION = 100\n",
        "\n",
        "tiempo= {}"
      ],
      "execution_count": 15,
      "outputs": []
    },
    {
      "cell_type": "code",
      "metadata": {
        "id": "WaD5WWCPn3kx"
      },
      "source": [
        "class Lavanderia(object):\n",
        "    \n",
        "    def __init__(self, environment, num_maquinas,tiempo_bus,tiempo_automovil,\n",
        "                 tiempo_furgoneta,traslado_bus,traslado_automovil,traslado_furgoneta):\n",
        "        # Guardamos como variable el entorno de ejecucion\n",
        "        self.env=environment\n",
        "        # Creamos el recurso que representa las maquinas\n",
        "        self.maquinas = simpy.Resource(environment, num_maquinas)\n",
        "        # Variable para el tiempo de lavado\n",
        "        self.tiempo_bus = tiempo_bus\n",
        "        self.tiempo_automovil = tiempo_automovil\n",
        "        self.tiempo_furgoneta = tiempo_furgoneta\n",
        "        self.traslado_bus = traslado_bus\n",
        "        self.traslado_automovil = traslado_automovil\n",
        "        self.traslado_furgoneta = traslado_furgoneta\n",
        "        \n",
        "    def lavar_vehiculo(self, vehiculo):\n",
        "        automotor=vehiculo.split('-')\n",
        "        if(automotor[0] == 'Bus'):\n",
        "            yield self.env.timeout(TRASLADO[0])\n",
        "        if(automotor[0] == 'Automovil'):\n",
        "            yield self.env.timeout(TRASLADO[1])\n",
        "        if(automotor[0] == 'Furgoneta'):\n",
        "            yield self.env.timeout(TRASLADO[2])\n",
        "        #Solo agregamos al diccionario al momento que termina de lavar el vehiculo.\n",
        "        k=automotor[0]\n",
        "        if k in tiempo:\n",
        "            tiempo[k]=tiempo[k]+1\n",
        "        else:\n",
        "            tiempo[k]=1\n",
        "            \n",
        "        # Simulamos que se ha limpiado parte (%) de la suciedad del vehiculo\n",
        "        # Para el % generamos un entero entre 30 y 90\n",
        "        print('Removido  {%d%%} suciedad vehiculo => %s ' %(random.randint(30,90), vehiculo))\n",
        "        \n",
        "    def trasladar_vehiculo(self, vehiculo):\n",
        "        automotor=vehiculo.split('-')\n",
        "        if(automotor[0] == 'Bus'):\n",
        "            yield self.env.timeout(TRASLADO[0])\n",
        "        if(automotor[0] == 'Automovil'):\n",
        "            yield self.env.timeout(TRASLADO[1])\n",
        "        if(automotor[0] == 'Furgoneta'):\n",
        "            yield self.env.timeout(TRASLADO[2])\n",
        "       \n",
        "    \n"
      ],
      "execution_count": 16,
      "outputs": []
    },
    {
      "cell_type": "code",
      "metadata": {
        "id": "b5i3M14Un8Bh"
      },
      "source": [
        "def llegada_vehiculo(env, nombre, lavanderia):\n",
        "    # Usamos el reloj de la simulacion (env.now()) para indicar a la\n",
        "    # hora que llega el vehiculo con el nombre pasado como parametro\n",
        "    print('Llega vehiculo: %s a la hora %.2f.' % (nombre, env.now))\n",
        "    \n",
        "    # Especificamos que vamos a usar un recurso (Resource) que representa\n",
        "    # la maquina de lavado\n",
        "    with lavanderia.maquinas.request() as maquina:\n",
        "        # Ocupamos la maquina de lavado\n",
        "        yield maquina\n",
        "        #Indicamos que el vehiculo se esta trasladando para ser lavado\n",
        "        print('Se traslada vehiculo: %s a la hora %.2f.' % (nombre,env.now))\n",
        "        #Procesamos el traslado del vehiculo\n",
        "        yield env.process(lavanderia.trasladar_vehiculo(nombre))\n",
        "        # Indicamos que vehiculo entra a la lavanderia\n",
        "        print('Entra vehiculo a lavarse: %s a la hora %.2f.' % (nombre, env.now))\n",
        "        # Procesamos la operacion de lavado\n",
        "        yield env.process(lavanderia.lavar_vehiculo(nombre))\n",
        "        # Una vez que termina la llamada con 'yield', se indica que se ha lavado el vehiculo\n",
        "        print('Vehiculo [%s] lavado a las %.2f.' % (nombre, env.now))  \n",
        "        "
      ],
      "execution_count": 17,
      "outputs": []
    },
    {
      "cell_type": "code",
      "metadata": {
        "id": "1JQHbP8Yn-lQ"
      },
      "source": [
        "def ejecutar_simulacion(env, num_maquinas, tiempo_bus,tiempo_automovil,\n",
        "                        tiempo_furgoneta,traslado_bus,traslado_automovil,\n",
        "                        traslado_furgoneta, intervalo):\n",
        "    lavanderia=Lavanderia(env, num_maquinas, tiempo_bus,tiempo_automovil,\n",
        "                          tiempo_furgoneta,traslado_bus,traslado_automovil,\n",
        "                          traslado_furgoneta)\n",
        "    # Creamos 5 llegadas de vehiculos iniciales\n",
        "    for i in range(2):\n",
        "        env.process(llegada_vehiculo(env, 'Bus-%d'%(i+1),lavanderia))\n",
        "        env.process(llegada_vehiculo(env, 'Automovil-%d'%(i+1),lavanderia))\n",
        "        env.process(llegada_vehiculo(env, 'Furgoneta-%d'%(i+1),lavanderia))\n",
        "        \n",
        "    # Ejecutamos la simulacion\n",
        "    while True:\n",
        "        yield env.timeout(random.randint(intervalo-3, intervalo+3))\n",
        "        i+=1\n",
        "        # Mientras se lavan los vehiculos generamos mas vehiculos\n",
        "        rnd = random.randint(1,100)\n",
        "        if rnd <= 20: # Bus 20%, Furgoneta 30% y Automovil 50%\n",
        "            env.process(llegada_vehiculo(env,'Bus-%d'%(i+1),lavanderia))\n",
        "        elif rnd <= 50:\n",
        "            env.process(llegada_vehiculo(env,'Furgoneta-%d'%(i+1),lavanderia))\n",
        "        else:\n",
        "            env.process(llegada_vehiculo(env,'Automovil-%d'%(i+1),lavanderia))"
      ],
      "execution_count": 18,
      "outputs": []
    },
    {
      "cell_type": "code",
      "metadata": {
        "colab": {
          "base_uri": "https://localhost:8080/"
        },
        "id": "SYDQcWwJoARh",
        "outputId": "9672b833-e294-4ac1-957c-d3a190ead94a"
      },
      "source": [
        "print('Lavanderia UPS')\n",
        "# Inicializamos la semilla aleatoria\n",
        "random.seed(77)\n",
        "# Creamos el entorno de simulacion\n",
        "env=simpy.Environment()\n",
        "env.process(ejecutar_simulacion(env, NUM_MAQUINAS, TIEMPO_LAVADO[0],TIEMPO_LAVADO[1],\\\n",
        "                                TIEMPO_LAVADO[2]\\\n",
        "                                ,TRASLADO[0],TRASLADO[1],TRASLADO[2]\n",
        "                                , INTERVALO_LLEGADA))\n",
        "# Ejecutamos el proceso durante el tiempo de simulacion\n",
        "env.run(until = TIEMPO_SIMULACION)"
      ],
      "execution_count": 19,
      "outputs": [
        {
          "output_type": "stream",
          "text": [
            "Lavanderia UPS\n",
            "Llega vehiculo: Bus-1 a la hora 0.00.\n",
            "Llega vehiculo: Automovil-1 a la hora 0.00.\n",
            "Llega vehiculo: Furgoneta-1 a la hora 0.00.\n",
            "Llega vehiculo: Bus-2 a la hora 0.00.\n",
            "Llega vehiculo: Automovil-2 a la hora 0.00.\n",
            "Llega vehiculo: Furgoneta-2 a la hora 0.00.\n",
            "Se traslada vehiculo: Bus-1 a la hora 0.00.\n",
            "Se traslada vehiculo: Automovil-1 a la hora 0.00.\n",
            "Se traslada vehiculo: Furgoneta-1 a la hora 0.00.\n",
            "Se traslada vehiculo: Bus-2 a la hora 0.00.\n",
            "Entra vehiculo a lavarse: Automovil-1 a la hora 1.00.\n",
            "Removido  {46%} suciedad vehiculo => Automovil-1 \n",
            "Entra vehiculo a lavarse: Furgoneta-1 a la hora 2.00.\n",
            "Vehiculo [Automovil-1] lavado a las 2.00.\n",
            "Se traslada vehiculo: Automovil-2 a la hora 2.00.\n",
            "Entra vehiculo a lavarse: Automovil-2 a la hora 3.00.\n",
            "Removido  {50%} suciedad vehiculo => Furgoneta-1 \n",
            "Removido  {42%} suciedad vehiculo => Automovil-2 \n",
            "Entra vehiculo a lavarse: Bus-1 a la hora 4.00.\n",
            "Entra vehiculo a lavarse: Bus-2 a la hora 4.00.\n",
            "Vehiculo [Furgoneta-1] lavado a las 4.00.\n",
            "Vehiculo [Automovil-2] lavado a las 4.00.\n",
            "Se traslada vehiculo: Furgoneta-2 a la hora 4.00.\n",
            "Entra vehiculo a lavarse: Furgoneta-2 a la hora 6.00.\n",
            "Removido  {45%} suciedad vehiculo => Bus-1 \n",
            "Removido  {42%} suciedad vehiculo => Bus-2 \n",
            "Removido  {82%} suciedad vehiculo => Furgoneta-2 \n",
            "Vehiculo [Bus-1] lavado a las 8.00.\n",
            "Vehiculo [Bus-2] lavado a las 8.00.\n",
            "Vehiculo [Furgoneta-2] lavado a las 8.00.\n",
            "Llega vehiculo: Bus-3 a la hora 13.00.\n",
            "Se traslada vehiculo: Bus-3 a la hora 13.00.\n",
            "Entra vehiculo a lavarse: Bus-3 a la hora 17.00.\n",
            "Removido  {60%} suciedad vehiculo => Bus-3 \n",
            "Vehiculo [Bus-3] lavado a las 21.00.\n",
            "Llega vehiculo: Automovil-4 a la hora 22.00.\n",
            "Se traslada vehiculo: Automovil-4 a la hora 22.00.\n",
            "Entra vehiculo a lavarse: Automovil-4 a la hora 23.00.\n",
            "Removido  {45%} suciedad vehiculo => Automovil-4 \n",
            "Vehiculo [Automovil-4] lavado a las 24.00.\n",
            "Llega vehiculo: Bus-5 a la hora 33.00.\n",
            "Se traslada vehiculo: Bus-5 a la hora 33.00.\n",
            "Entra vehiculo a lavarse: Bus-5 a la hora 37.00.\n",
            "Removido  {70%} suciedad vehiculo => Bus-5 \n",
            "Vehiculo [Bus-5] lavado a las 41.00.\n",
            "Llega vehiculo: Automovil-6 a la hora 44.00.\n",
            "Se traslada vehiculo: Automovil-6 a la hora 44.00.\n",
            "Entra vehiculo a lavarse: Automovil-6 a la hora 45.00.\n",
            "Removido  {30%} suciedad vehiculo => Automovil-6 \n",
            "Vehiculo [Automovil-6] lavado a las 46.00.\n",
            "Llega vehiculo: Furgoneta-7 a la hora 55.00.\n",
            "Se traslada vehiculo: Furgoneta-7 a la hora 55.00.\n",
            "Entra vehiculo a lavarse: Furgoneta-7 a la hora 57.00.\n",
            "Removido  {83%} suciedad vehiculo => Furgoneta-7 \n",
            "Vehiculo [Furgoneta-7] lavado a las 59.00.\n",
            "Llega vehiculo: Automovil-8 a la hora 62.00.\n",
            "Se traslada vehiculo: Automovil-8 a la hora 62.00.\n",
            "Entra vehiculo a lavarse: Automovil-8 a la hora 63.00.\n",
            "Removido  {80%} suciedad vehiculo => Automovil-8 \n",
            "Vehiculo [Automovil-8] lavado a las 64.00.\n",
            "Llega vehiculo: Furgoneta-9 a la hora 70.00.\n",
            "Se traslada vehiculo: Furgoneta-9 a la hora 70.00.\n",
            "Entra vehiculo a lavarse: Furgoneta-9 a la hora 72.00.\n",
            "Removido  {83%} suciedad vehiculo => Furgoneta-9 \n",
            "Vehiculo [Furgoneta-9] lavado a las 74.00.\n",
            "Llega vehiculo: Furgoneta-10 a la hora 81.00.\n",
            "Se traslada vehiculo: Furgoneta-10 a la hora 81.00.\n",
            "Entra vehiculo a lavarse: Furgoneta-10 a la hora 83.00.\n",
            "Removido  {51%} suciedad vehiculo => Furgoneta-10 \n",
            "Vehiculo [Furgoneta-10] lavado a las 85.00.\n",
            "Llega vehiculo: Furgoneta-11 a la hora 89.00.\n",
            "Se traslada vehiculo: Furgoneta-11 a la hora 89.00.\n",
            "Entra vehiculo a lavarse: Furgoneta-11 a la hora 91.00.\n",
            "Removido  {35%} suciedad vehiculo => Furgoneta-11 \n",
            "Vehiculo [Furgoneta-11] lavado a las 93.00.\n",
            "Llega vehiculo: Automovil-12 a la hora 96.00.\n",
            "Se traslada vehiculo: Automovil-12 a la hora 96.00.\n",
            "Entra vehiculo a lavarse: Automovil-12 a la hora 97.00.\n",
            "Removido  {46%} suciedad vehiculo => Automovil-12 \n",
            "Vehiculo [Automovil-12] lavado a las 98.00.\n"
          ],
          "name": "stdout"
        }
      ]
    },
    {
      "cell_type": "code",
      "metadata": {
        "colab": {
          "base_uri": "https://localhost:8080/",
          "height": 863
        },
        "id": "XPphhAKQoEIg",
        "outputId": "d464cb61-ceec-4f89-dc85-49f02753cbad"
      },
      "source": [
        "datos2 = sorted(tiempo.items())\n",
        "x, y = zip(*datos2)\n",
        "plt.plot(x,y,linewidth=3, color=\"red\")\n",
        "plt.gcf().set_size_inches(15, 15)\n",
        "plt.scatter(x,y,color='blue')\n",
        "plt.grid(True)\n",
        "plt.show()"
      ],
      "execution_count": 25,
      "outputs": [
        {
          "output_type": "display_data",
          "data": {
            "image/png": "[encoded data removed]",
            "text/plain": [
              "<Figure size 1080x1080 with 1 Axes>"
            ]
          },
          "metadata": {
            "tags": [],
            "needs_background": "light"
          }
        }
      ]
    }
  ]
}